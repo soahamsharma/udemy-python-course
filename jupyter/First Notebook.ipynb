{
 "cells": [
  {
   "cell_type": "code",
   "execution_count": 8,
   "id": "51bca913",
   "metadata": {},
   "outputs": [
    {
     "name": "stdout",
     "output_type": "stream",
     "text": [
      "['APPLE', '21/09/2022', 526, 513, 117, 939]\n",
      "['APPLE', '22/09/2022', 999, 999, 997, 999]\n",
      "['APPLE', '23/09/2022', 828, 844, 818, 854]\n",
      "['APPLE', '24/09/2022', 991, 992, 991, 993]\n",
      "['APPLE', '25/09/2022', 432, 359, 293, 518]\n",
      "['GOOGLE', '21/09/2022', 244, 248, 242, 270]\n",
      "['GOOGLE', '22/09/2022', 796, 670, 651, 877]\n",
      "['GOOGLE', '23/09/2022', 109, 141, 1, 933]\n",
      "['GOOGLE', '24/09/2022', 27, 124, 7, 128]\n",
      "['GOOGLE', '25/09/2022', 955, 958, 925, 998]\n",
      "['NETFLIX', '21/09/2022', 505, 568, 390, 709]\n",
      "['NETFLIX', '22/09/2022', 746, 726, 712, 824]\n",
      "['NETFLIX', '23/09/2022', 602, 449, 208, 892]\n",
      "['NETFLIX', '24/09/2022', 904, 907, 890, 925]\n",
      "['NETFLIX', '25/09/2022', 570, 466, 462, 589]\n",
      "['MICROSOFT', '21/09/2022', 865, 890, 865, 896]\n",
      "['MICROSOFT', '22/09/2022', 472, 463, 286, 660]\n",
      "['MICROSOFT', '23/09/2022', 682, 767, 451, 797]\n",
      "['MICROSOFT', '24/09/2022', 874, 950, 861, 994]\n",
      "['MICROSOFT', '25/09/2022', 498, 500, 155, 577]\n",
      "['FACEBOOK', '21/09/2022', 831, 895, 784, 998]\n",
      "['FACEBOOK', '22/09/2022', 403, 406, 383, 429]\n",
      "['FACEBOOK', '23/09/2022', 508, 735, 338, 942]\n",
      "['FACEBOOK', '24/09/2022', 360, 495, 296, 637]\n",
      "['FACEBOOK', '25/09/2022', 815, 958, 807, 972]\n"
     ]
    }
   ],
   "source": [
    "import random\n",
    "companies = ['APPLE', 'GOOGLE', 'NETFLIX', 'MICROSOFT', 'FACEBOOK']\n",
    "dates = ['21','22','23','24','25']\n",
    "dataset = []\n",
    "for company in companies:\n",
    "    for date in dates:\n",
    "        fdate = date+\"/09/2022\"\n",
    "        low = random.randint(1,1000)\n",
    "        high = random.randint(low,1000)\n",
    "        opening = random.randint(low,high)\n",
    "        closing = random.randint(low, high)\n",
    "        dataset.append([company,fdate,opening,closing,low,high])\n",
    "for data in dataset:\n",
    "    print(data)"
   ]
  }
 ],
 "metadata": {
  "kernelspec": {
   "display_name": "Python 3 (ipykernel)",
   "language": "python",
   "name": "python3"
  },
  "language_info": {
   "codemirror_mode": {
    "name": "ipython",
    "version": 3
   },
   "file_extension": ".py",
   "mimetype": "text/x-python",
   "name": "python",
   "nbconvert_exporter": "python",
   "pygments_lexer": "ipython3",
   "version": "3.10.6"
  }
 },
 "nbformat": 4,
 "nbformat_minor": 5
}
